{
 "cells": [
  {
   "cell_type": "markdown",
   "id": "bb537d94-7c06-416c-823c-2111e595065f",
   "metadata": {},
   "source": [
    "## Practical Introduction to Transformer Models: BERT\n",
    "\n",
    "In the field of NLP, the transformer model architecture has been a revolutionary discovery that greatly enhanced our ability to understand and generate human language.\n",
    "\n",
    "This tutorial provides a close look at BERT (Bidirectional Encoder Representations from Transformers), one of the most popular transformer-based models, and instructs on its use in practice for sentiment analysis by fine-tuning the base model.\n",
    "\n",
    "#### Introduction to BERT\n",
    "BERT, introduced by researchers at Google in 2018, is a powerful language model that uses transformer architecture. What sets BERT apart is its bidirectional nature. Traditional language models like LSTM and GRU are either unidirectional or sequentially bidirectional, but BERT takes into account the context from both past and future words simultaneously for a specific word. The key innovation in the transformer model is the \"attention\" mechanism, which allows the model to weight the importance of different words in a sentence when generating representations.\n",
    "This feature allows BERT to understand the complete context of a word and, consequently, produce more accurate language models. It is pre-trained on two NLP tasks:\n",
    "- Masked Language Model (MLM) and \n",
    "- Next Sentence Prediction (NSP), \n",
    "\n",
    "and is often used as a starting point for various downstream NLP tasks, like sentiment analysis, which will be explored in this tutorial.\n",
    "\n",
    "#### Pre-Training and Fine-Tuning\n",
    "The power of BERT comes from its two-step process: \n",
    "- Pre-training is the phase where BERT is trained on large amounts of data. As a result, it learns to predict masked words in a sentence (MLM task) and to predict if a sentence follows another one (NSP task). The output of this stage is a a pre-trained NLP model with a general-purpose \"understanding\" of the language\n",
    "- Fine-tuning is where the pre-trained BERT model is further trained on a specific task. The model is initialized with the pre-trained parameters, and the entire model is trained on a downstream task, allowing BERT to fine-tune its understanding of language to the specifics of the task at hand.\n",
    "\n",
    "#### Hands On: Using BERT for sentiment analysis\n",
    "Now, let's get our hands dirty. We're going to perform sentiment analysis on the IMDb dataset, which contains movie reviews labeled as either positive or negative. For this, we'll be using Hugging Face's transformers library.\n",
    "\n",
    "** **\n",
    "Let's load all the libraries"
   ]
  },
  {
   "cell_type": "code",
   "execution_count": 1,
   "id": "9122a30a-9f2f-4d8a-9c87-2d11c0465308",
   "metadata": {},
   "outputs": [
    {
     "name": "stderr",
     "output_type": "stream",
     "text": [
      "/Users/skapadia/Library/Caches/pypoetry/virtualenvs/transformers-models-r2uefcSj-py3.9/lib/python3.9/site-packages/tqdm/auto.py:21: TqdmWarning: IProgress not found. Please update jupyter and ipywidgets. See https://ipywidgets.readthedocs.io/en/stable/user_install.html\n",
      "  from .autonotebook import tqdm as notebook_tqdm\n"
     ]
    }
   ],
   "source": [
    "import pandas as pd\n",
    "import seaborn as sns\n",
    "import matplotlib.pyplot as plt\n",
    "from sklearn.metrics import confusion_matrix, roc_curve, auc\n",
    "from datasets import load_dataset\n",
    "from transformers import AutoTokenizer, AutoModelForSequenceClassification, TrainingArguments, Trainer\n",
    "\n",
    "# Variables to set the number of epochs and samples\n",
    "num_epochs = 10\n",
    "num_samples = 100  # set this to -1 to use all data"
   ]
  },
  {
   "cell_type": "markdown",
   "id": "5fc553a9-96e5-45f3-8573-cf7445585de3",
   "metadata": {},
   "source": [
    "** **\n",
    "First, we need to load the dataset and the model tokenizer."
   ]
  },
  {
   "cell_type": "code",
   "execution_count": 2,
   "id": "bf744b0d-6f8c-4711-ad75-efde168d978a",
   "metadata": {},
   "outputs": [
    {
     "name": "stderr",
     "output_type": "stream",
     "text": [
      "Found cached dataset imdb (/Users/skapadia/.cache/huggingface/datasets/imdb/plain_text/1.0.0/d613c88cf8fa3bab83b4ded3713f1f74830d1100e171db75bbddb80b3345c9c0)\n",
      "100%|███████████████████████████████████████████████████████████████████████████████████████████████████████████████████████████████████████████████████████████████████████████| 3/3 [00:00<00:00, 385.36it/s]\n"
     ]
    }
   ],
   "source": [
    "# Step 1: Load dataset and model tokenizer\n",
    "dataset = load_dataset('imdb')\n",
    "tokenizer = AutoTokenizer.from_pretrained('bert-base-uncased')"
   ]
  },
  {
   "cell_type": "markdown",
   "id": "66f8f9f2-1c21-4717-b7f6-8210bbd25503",
   "metadata": {},
   "source": [
    "** **\n",
    "Before we move on, let's explore our dataset a bit. We'll create a plot to see the distribution of the positive and negative classes."
   ]
  },
  {
   "cell_type": "code",
   "execution_count": 3,
   "id": "bb61016a-573c-475c-b95e-ec7964443106",
   "metadata": {},
   "outputs": [
    {
     "data": {
      "image/png": "[encoded data removed]",
      "text/plain": [
       "<Figure size 640x480 with 1 Axes>"
      ]
     },
     "metadata": {},
     "output_type": "display_data"
    }
   ],
   "source": [
    "# Data Exploration\n",
    "train_df = pd.DataFrame(dataset[\"train\"])\n",
    "sns.countplot(x='label', data=train_df)\n",
    "plt.title('Class distribution')\n",
    "plt.show()"
   ]
  },
  {
   "cell_type": "markdown",
   "id": "bcb1fcbc-42df-4fa8-b371-ea7daf0914ae",
   "metadata": {},
   "source": [
    "It is essential to highlight that in practical applications, encountering a balanced class distribution is rarely the case. If the dataset for your use-case demonstrates class imbalance, it is strongly recommended to implement suitable strategies prior to training the model. Such procedures can significantly enhance the model's performance."
   ]
  },
  {
   "cell_type": "markdown",
   "id": "d368794c-8a56-4761-8cb5-7d735c21bfa7",
   "metadata": {},
   "source": [
    "** **\n",
    "Next, we preprocess our dataset by tokenizing the texts. We use BERT's tokenizer, which will convert the text into tokens that correspond to BERT's vocabulary."
   ]
  },
  {
   "cell_type": "code",
   "execution_count": 4,
   "id": "d8849a36-68be-41fa-8e8a-658c5114fcb7",
   "metadata": {},
   "outputs": [
    {
     "name": "stderr",
     "output_type": "stream",
     "text": [
      "Loading cached processed dataset at /Users/skapadia/.cache/huggingface/datasets/imdb/plain_text/1.0.0/d613c88cf8fa3bab83b4ded3713f1f74830d1100e171db75bbddb80b3345c9c0/cache-8d3f672c6bd459c5.arrow\n",
      "Loading cached processed dataset at /Users/skapadia/.cache/huggingface/datasets/imdb/plain_text/1.0.0/d613c88cf8fa3bab83b4ded3713f1f74830d1100e171db75bbddb80b3345c9c0/cache-a224c74dea2a378a.arrow\n",
      "Loading cached processed dataset at /Users/skapadia/.cache/huggingface/datasets/imdb/plain_text/1.0.0/d613c88cf8fa3bab83b4ded3713f1f74830d1100e171db75bbddb80b3345c9c0/cache-3771e6c862b361d6.arrow\n"
     ]
    }
   ],
   "source": [
    "# Step 2: Preprocess the dataset\n",
    "def tokenize_function(examples):\n",
    "    return tokenizer(examples[\"text\"], padding=\"max_length\", truncation=True)\n",
    "\n",
    "tokenized_datasets = dataset.map(tokenize_function, batched=True)"
   ]
  },
  {
   "cell_type": "markdown",
   "id": "c893c1a4-a3bc-4ed3-96b6-dcce961ff823",
   "metadata": {},
   "source": [
    "** **\n",
    "After that, we prepare our training and evaluation datasets. Remember, if you want to use all the data, you can set the num_samples variable to -1."
   ]
  },
  {
   "cell_type": "code",
   "execution_count": 5,
   "id": "dbf75222-73e3-4e3b-b2ba-edf51e0a1083",
   "metadata": {},
   "outputs": [
    {
     "name": "stderr",
     "output_type": "stream",
     "text": [
      "Loading cached shuffled indices for dataset at /Users/skapadia/.cache/huggingface/datasets/imdb/plain_text/1.0.0/d613c88cf8fa3bab83b4ded3713f1f74830d1100e171db75bbddb80b3345c9c0/cache-84712cace8bef640.arrow\n",
      "Loading cached shuffled indices for dataset at /Users/skapadia/.cache/huggingface/datasets/imdb/plain_text/1.0.0/d613c88cf8fa3bab83b4ded3713f1f74830d1100e171db75bbddb80b3345c9c0/cache-89ec35fd52b28a4f.arrow\n"
     ]
    }
   ],
   "source": [
    "if num_samples == -1:\n",
    "    small_train_dataset = tokenized_datasets[\"train\"].shuffle(seed=42)\n",
    "    small_eval_dataset = tokenized_datasets[\"test\"].shuffle(seed=42)\n",
    "else:\n",
    "    small_train_dataset = tokenized_datasets[\"train\"].shuffle(seed=42).select(range(num_samples)) \n",
    "    small_eval_dataset = tokenized_datasets[\"test\"].shuffle(seed=42).select(range(num_samples))"
   ]
  },
  {
   "cell_type": "markdown",
   "id": "5cd50a71-f337-43ef-b7b5-e9e048c996ae",
   "metadata": {},
   "source": [
    "** **\n",
    "Then, we load the pre-trained BERT model. We'll use the AutoModelForSequenceClassification class, a BERT model designed for classification tasks.\n",
    "\n",
    "For this tutorial, we use the 'bert-base-uncased' version of BERT, which is trained on lower-case English text, is used for this tutorial."
   ]
  },
  {
   "cell_type": "code",
   "execution_count": 6,
   "id": "8b4b002a-35b6-4f34-b34d-4fc0cd5fcca6",
   "metadata": {},
   "outputs": [
    {
     "name": "stderr",
     "output_type": "stream",
     "text": [
      "Some weights of the model checkpoint at bert-base-uncased were not used when initializing BertForSequenceClassification: ['cls.predictions.bias', 'cls.seq_relationship.bias', 'cls.predictions.transform.LayerNorm.bias', 'cls.predictions.transform.dense.weight', 'cls.predictions.transform.LayerNorm.weight', 'cls.seq_relationship.weight', 'cls.predictions.transform.dense.bias']\n",
      "- This IS expected if you are initializing BertForSequenceClassification from the checkpoint of a model trained on another task or with another architecture (e.g. initializing a BertForSequenceClassification model from a BertForPreTraining model).\n",
      "- This IS NOT expected if you are initializing BertForSequenceClassification from the checkpoint of a model that you expect to be exactly identical (initializing a BertForSequenceClassification model from a BertForSequenceClassification model).\n",
      "Some weights of BertForSequenceClassification were not initialized from the model checkpoint at bert-base-uncased and are newly initialized: ['classifier.weight', 'classifier.bias']\n",
      "You should probably TRAIN this model on a down-stream task to be able to use it for predictions and inference.\n"
     ]
    }
   ],
   "source": [
    "# Step 3: Load pre-trained model\n",
    "model = AutoModelForSequenceClassification.from_pretrained('bert-base-uncased', num_labels=2)"
   ]
  },
  {
   "cell_type": "markdown",
   "id": "64b1ff16-44bc-4aec-a466-359927157eca",
   "metadata": {},
   "source": [
    "** **\n",
    "Now, we're ready to define our training arguments and create a Trainer instance to train our model."
   ]
  },
  {
   "cell_type": "code",
   "execution_count": 7,
   "id": "77dc2392-8a97-445c-a53b-6afdbc8c09bc",
   "metadata": {},
   "outputs": [
    {
     "name": "stderr",
     "output_type": "stream",
     "text": [
      "/Users/skapadia/Library/Caches/pypoetry/virtualenvs/transformers-models-r2uefcSj-py3.9/lib/python3.9/site-packages/transformers/optimization.py:411: FutureWarning: This implementation of AdamW is deprecated and will be removed in a future version. Use the PyTorch implementation torch.optim.AdamW instead, or set `no_deprecation_warning=True` to disable this warning\n",
      "  warnings.warn(\n"
     ]
    },
    {
     "data": {
      "text/html": [
       "\n",
       "    <div>\n",
       "      \n",
       "      <progress value='130' max='130' style='width:300px; height:20px; vertical-align: middle;'></progress>\n",
       "      [130/130 16:51, Epoch 10/10]\n",
       "    </div>\n",
       "    <table border=\"1\" class=\"dataframe\">\n",
       "  <thead>\n",
       " <tr style=\"text-align: left;\">\n",
       "      <th>Epoch</th>\n",
       "      <th>Training Loss</th>\n",
       "      <th>Validation Loss</th>\n",
       "    </tr>\n",
       "  </thead>\n",
       "  <tbody>\n",
       "    <tr>\n",
       "      <td>1</td>\n",
       "      <td>No log</td>\n",
       "      <td>0.673399</td>\n",
       "    </tr>\n",
       "    <tr>\n",
       "      <td>2</td>\n",
       "      <td>No log</td>\n",
       "      <td>0.577147</td>\n",
       "    </tr>\n",
       "    <tr>\n",
       "      <td>3</td>\n",
       "      <td>No log</td>\n",
       "      <td>0.523433</td>\n",
       "    </tr>\n",
       "    <tr>\n",
       "      <td>4</td>\n",
       "      <td>No log</td>\n",
       "      <td>0.736292</td>\n",
       "    </tr>\n",
       "    <tr>\n",
       "      <td>5</td>\n",
       "      <td>No log</td>\n",
       "      <td>0.903130</td>\n",
       "    </tr>\n",
       "    <tr>\n",
       "      <td>6</td>\n",
       "      <td>No log</td>\n",
       "      <td>0.924082</td>\n",
       "    </tr>\n",
       "    <tr>\n",
       "      <td>7</td>\n",
       "      <td>No log</td>\n",
       "      <td>1.438573</td>\n",
       "    </tr>\n",
       "    <tr>\n",
       "      <td>8</td>\n",
       "      <td>No log</td>\n",
       "      <td>1.406258</td>\n",
       "    </tr>\n",
       "    <tr>\n",
       "      <td>9</td>\n",
       "      <td>No log</td>\n",
       "      <td>1.299035</td>\n",
       "    </tr>\n",
       "    <tr>\n",
       "      <td>10</td>\n",
       "      <td>No log</td>\n",
       "      <td>1.258621</td>\n",
       "    </tr>\n",
       "  </tbody>\n",
       "</table><p>"
      ],
      "text/plain": [
       "<IPython.core.display.HTML object>"
      ]
     },
     "metadata": {},
     "output_type": "display_data"
    },
    {
     "data": {
      "text/plain": [
       "TrainOutput(global_step=130, training_loss=0.1417579357440655, metrics={'train_runtime': 1018.0087, 'train_samples_per_second': 0.982, 'train_steps_per_second': 0.128, 'total_flos': 263111055360000.0, 'train_loss': 0.1417579357440655, 'epoch': 10.0})"
      ]
     },
     "execution_count": 7,
     "metadata": {},
     "output_type": "execute_result"
    }
   ],
   "source": [
    "# Step 4: Define training arguments\n",
    "training_args = TrainingArguments(\"test_trainer\", evaluation_strategy=\"epoch\", no_cuda=True, num_train_epochs=num_epochs)\n",
    "\n",
    "# Step 5: Create Trainer instance and train\n",
    "trainer = Trainer(\n",
    "    model=model, args=training_args, train_dataset=small_train_dataset, eval_dataset=small_eval_dataset\n",
    ")\n",
    "\n",
    "trainer.train()"
   ]
  },
  {
   "cell_type": "markdown",
   "id": "2352319c-7bbb-4cc7-9cbc-c6872722394d",
   "metadata": {},
   "source": [
    "** **\n",
    "#### Interpreting Results\n",
    "Having trained our model, let's evaluate it. We'll calculate the confusion matrix and the ROC curve to understand how well our model performs."
   ]
  },
  {
   "cell_type": "code",
   "execution_count": 8,
   "id": "54f7f593-b59f-40cc-9149-2cab6b9b2ff2",
   "metadata": {},
   "outputs": [
    {
     "data": {
      "text/html": [],
      "text/plain": [
       "<IPython.core.display.HTML object>"
      ]
     },
     "metadata": {},
     "output_type": "display_data"
    },
    {
     "data": {
      "image/png": "[encoded data removed]",
      "text/plain": [
       "<Figure size 640x480 with 2 Axes>"
      ]
     },
     "metadata": {},
     "output_type": "display_data"
    },
    {
     "data": {
      "image/png": "[encoded data removed]",
      "text/plain": [
       "<Figure size 809x500 with 1 Axes>"
      ]
     },
     "metadata": {},
     "output_type": "display_data"
    }
   ],
   "source": [
    "# Step 6: Evaluation\n",
    "predictions = trainer.predict(small_eval_dataset)\n",
    "\n",
    "# Confusion matrix\n",
    "cm = confusion_matrix(small_eval_dataset['label'], predictions.predictions.argmax(-1))\n",
    "sns.heatmap(cm, annot=True, fmt='d')\n",
    "plt.title('Confusion Matrix')\n",
    "plt.show()\n",
    "\n",
    "# ROC Curve\n",
    "fpr, tpr, _ = roc_curve(small_eval_dataset['label'], predictions.predictions[:, 1])\n",
    "roc_auc = auc(fpr, tpr)\n",
    "\n",
    "plt.figure(figsize=(1.618 * 5, 5))\n",
    "plt.plot(fpr, tpr, color='darkorange', lw=2, label='ROC curve (area = %0.2f)' % roc_auc)\n",
    "plt.plot([0, 1], [0, 1], color='navy', lw=2, linestyle='--')\n",
    "plt.xlim([0.0, 1.0])\n",
    "plt.ylim([0.0, 1.05])\n",
    "plt.xlabel('False Positive Rate')\n",
    "plt.ylabel('True Positive Rate')\n",
    "plt.title('Receiver operating characteristic')\n",
    "plt.legend(loc=\"lower right\")\n",
    "plt.show()"
   ]
  },
  {
   "cell_type": "markdown",
   "id": "40df8f20-6218-4576-ad59-eb55be73cd0c",
   "metadata": {},
   "source": [
    "Interpreting these results calls for a basic understanding of evaluation metrics. \n",
    "\n",
    "The confusion matrix gives a detailed breakdown of how our predictions measure up to the actual labels, while the ROC curve shows us the trade-off between the true positive rate (sensitivity) and the false positive rate (1 - specificity) at various threshold settings. The area under the ROC curve (AUC-ROC) is a measure of the overall performance of the model, with 1.0 representing perfect classification and 0.5 indicating a model no better than random guessing.\n",
    "** **\n",
    "Finally, to see our model in action, let's use it to infer the sentiment of a sample text."
   ]
  },
  {
   "cell_type": "code",
   "execution_count": 9,
   "id": "ef6449a2-1295-4c3f-b831-4a61da9ce39c",
   "metadata": {},
   "outputs": [
    {
     "name": "stdout",
     "output_type": "stream",
     "text": [
      "Positive sentiment\n"
     ]
    }
   ],
   "source": [
    "# Step 7: Inference on a new sample\n",
    "sample_text = \"This is a fantastic movie. I really enjoyed it.\"\n",
    "sample_inputs = tokenizer(sample_text, padding=\"max_length\", truncation=True, max_length=512, return_tensors=\"pt\")\n",
    "\n",
    "# Move inputs to device (if GPU available)\n",
    "sample_inputs.to(training_args.device)\n",
    "\n",
    "# Make prediction\n",
    "predictions = model(**sample_inputs)\n",
    "predicted_class = predictions.logits.argmax(-1).item()\n",
    "\n",
    "if predicted_class == 1:\n",
    "    print(\"Positive sentiment\")\n",
    "else:\n",
    "    print(\"Negative sentiment\")"
   ]
  },
  {
   "cell_type": "markdown",
   "id": "168ebb28-0be4-43eb-9942-133296ceb56b",
   "metadata": {},
   "source": [
    "** **\n",
    "#### Closing Thoughts\n",
    "BERT represents an enormous leap forward in our ability to model and understand natural language. It's become a cornerstone for NLP tasks due to its superior handling of context within language. With this tutorial, my goal was to give you a practical introduction to BERT, detailing its basic theory and showing its application in Python using Hugging Face's transformers library.\n",
    "\n",
    "By walking through an example of sentiment analysis on IMDb movie reviews, I hope you've gained a clear understanding of how to apply BERT to real-world NLP problems. The Python code I've included here can be adjusted and extended to tackle different tasks and datasets, paving the way for even more sophisticated and accurate language models."
   ]
  }
 ],
 "metadata": {
  "kernelspec": {
   "display_name": "Python 3 (ipykernel)",
   "language": "python",
   "name": "python3"
  },
  "language_info": {
   "codemirror_mode": {
    "name": "ipython",
    "version": 3
   },
   "file_extension": ".py",
   "mimetype": "text/x-python",
   "name": "python",
   "nbconvert_exporter": "python",
   "pygments_lexer": "ipython3",
   "version": "3.9.16"
  }
 },
 "nbformat": 4,
 "nbformat_minor": 5
}
