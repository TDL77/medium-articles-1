{
 "cells": [
  {
   "cell_type": "markdown",
   "id": "1d654a7e-fe50-495a-9235-303b16100d51",
   "metadata": {},
   "source": [
    "## Comparing 5 Data Similarity Measures\n",
    "##### Understanding Similarity Measures in Data Analysis and Machine Learning: A Comprehensive Guide\n",
    "** **\n",
    "*Preface: This article presents a summary of information about the given topic. It should not be considered original research. The information and code included in this article have may be influenced by things I have read or seen in the past from various online articles, research papers, books, and open-source code.*\n",
    "\n",
    "#### Introduction\n",
    "Similarity measures are a vital tool in many data analysis and machine learning tasks, allowing us to compare and evaluate the similarity between different pieces of data. Many different measures are available, each with pros and cons and suitable for different data types and tasks. \n",
    "\n",
    "This article will explore some of the most common similarity measures and compare their strengths and weaknesses. By understanding the characteristics and limitations of these measures, we can choose the most appropriate one for our specific needs and ensure the accuracy and relevance of our results.\n",
    "\n",
    "** **\n",
    "1. #### Euclidean Distance\n",
    "\n",
    "This measure calculates the straight-line distance between two points in n-dimensional space. It is often used for continuous numerical data and is easy to understand and implement. However, it can be sensitive to outliers and does not account for the relative importance of different features."
   ]
  },
  {
   "cell_type": "code",
   "execution_count": null,
   "id": "662570b5-f57b-426f-9e4e-7c7ed13ee897",
   "metadata": {},
   "outputs": [],
   "source": [
    "from scipy.spatial import distance\n",
    "\n",
    "# Calculate Euclidean distance between two points\n",
    "point1 = [1, 2, 3]\n",
    "point2 = [4, 5, 6]\n",
    "\n",
    "# Use the euclidean function from scipy's distance module to calculate the Euclidean distance\n",
    "euclidean_distance = distance.euclidean(point1, point2)"
   ]
  },
  {
   "cell_type": "markdown",
   "id": "251a9a8b-1399-43b6-8d5d-312eaa9d87c1",
   "metadata": {},
   "source": [
    "#### Manhattan Distance\n",
    "\n",
    "This measure calculates the distance between two points by considering the absolute differences of their coordinates in each dimension and summing them. It is less sensitive to outliers than Euclidean distance, but it may not accurately reflect the actual distance between points in some cases."
   ]
  },
  {
   "cell_type": "code",
   "execution_count": null,
   "id": "9a535f95-56a2-4960-880f-dc5d8c003949",
   "metadata": {},
   "outputs": [],
   "source": [
    "from scipy.spatial import distance\n",
    "\n",
    "# Calculate Manhattan distance between two points\n",
    "point1 = [1, 2, 3]\n",
    "point2 = [4, 5, 6]\n",
    "\n",
    "# Use the cityblock function from scipy's distance module to calculate the Manhattan distance\n",
    "manhattan_distance = distance.cityblock(point1, point2)\n",
    "\n",
    "# Print the result\n",
    "print(\"Manhattan Distance between the given two points: \" + \\\n",
    "      str(manhattan_distance))"
   ]
  },
  {
   "cell_type": "markdown",
   "id": "20eee091-e3f0-4b67-87e6-165d5c36f0dd",
   "metadata": {},
   "source": [
    "#### Cosine Similarity\n",
    "\n",
    "This measure calculates the similarity between two vectors by considering their angle. It is often used for text data and is resistant to changes in the magnitude of the vectors. However, it does not consider the relative importance of different features."
   ]
  },
  {
   "cell_type": "code",
   "execution_count": null,
   "id": "fb9fa0b3-86a1-4079-99f7-33891f93f0b6",
   "metadata": {},
   "outputs": [],
   "source": [
    "from sklearn.metrics.pairwise import cosine_similarity\n",
    "\n",
    "# Calculate cosine similarity between two vectors\n",
    "vector1 = [1, 2, 3]\n",
    "vector2 = [4, 5, 6]\n",
    "\n",
    "# Use the cosine_similarity function from scikit-learn to calculate the similarity\n",
    "cosine_sim = cosine_similarity([vector1], [vector2])[0][0]\n",
    "\n",
    "# Print the result\n",
    "print(\"Cosine Similarity between the given two vectors: \" + \\\n",
    "      str(cosine_sim))"
   ]
  },
  {
   "cell_type": "markdown",
   "id": "22288d67-7006-4025-9185-491f3100dfe0",
   "metadata": {},
   "source": [
    "#### Jaccard Similarity\n",
    "\n",
    "This measure calculates the similarity between two sets by considering the size of their intersection and union. It is often used for categorical data and is resistant to changes in the size of the sets. However, it does not consider the sets' order or frequency of elements."
   ]
  },
  {
   "cell_type": "code",
   "execution_count": null,
   "id": "3d3339eb-60cb-4bab-8ca4-3ffc40ead500",
   "metadata": {},
   "outputs": [],
   "source": [
    "def jaccard_similarity(list1, list2):\n",
    "    \"\"\"\n",
    "    Calculates the Jaccard similarity between two lists.\n",
    "    \n",
    "    Parameters:\n",
    "    list1 (list): The first list to compare.\n",
    "    list2 (list): The second list to compare.\n",
    "    \n",
    "    Returns:\n",
    "    float: The Jaccard similarity between the two lists.\n",
    "    \"\"\"\n",
    "    # Convert the lists to sets for easier comparison\n",
    "    s1 = set(list1)\n",
    "    s2 = set(list2)\n",
    "    \n",
    "    # Calculate the Jaccard similarity by taking the length of the intersection of the sets\n",
    "    # and dividing it by the length of the union of the sets\n",
    "    return float(len(s1.intersection(s2)) / len(s1.union(s2)))\n",
    "\n",
    "# Calculate Jaccard similarity between two sets\n",
    "set1 = [1, 2, 3]\n",
    "set2 = [2, 3, 4]\n",
    "jaccard_sim = jaccard_similarity(set1, set2)\n",
    "\n",
    "# Print the result\n",
    "print(\"Jaccard Similarity between the given two sets: \" + \\\n",
    "      str(jaccard_sim))\n"
   ]
  },
  {
   "cell_type": "markdown",
   "id": "1c0bff22-35f0-4a3f-bb1b-dab41fa87843",
   "metadata": {},
   "source": [
    "#### Pearson Correlation Coefficient\n",
    "\n",
    "This measure calculates the linear correlation between two variables. It is often used for continuous numerical data and considers the relative importance of different features. However, it may not accurately reflect non-linear relationships."
   ]
  },
  {
   "cell_type": "code",
   "execution_count": null,
   "id": "66c09410-c3fd-46cb-bcc6-8adf715105b7",
   "metadata": {},
   "outputs": [],
   "source": [
    "import numpy as np\n",
    "\n",
    "# Calculate Pearson correlation coefficient between two variables\n",
    "x = [1, 2, 3, 4]\n",
    "y = [2, 3, 4, 5]\n",
    "\n",
    "# Numpy corrcoef function to calculate the Pearson correlation coefficient and p-value\n",
    "pearson_corr = np.corrcoef(x, y)[0][1]\n",
    "\n",
    "# Print the result\n",
    "print(\"Pearson Correlation between the given two variables: \" + \\\n",
    "      str(pearson_corr))"
   ]
  },
  {
   "cell_type": "markdown",
   "id": "7a5e24a8-b8cc-41fc-a582-b5134d55f07b",
   "metadata": {},
   "source": [
    "** **\n",
    "### Practical Scenario\n",
    "\n",
    "Suppose we have 5 items with numerical attributes and we want to compare the similarities between these products in order to facilitate applications such as clustering, classification, or perhaps, recommendations."
   ]
  },
  {
   "cell_type": "code",
   "execution_count": null,
   "id": "bdec85a6-0f50-413d-857a-6b90c5bb8b04",
   "metadata": {},
   "outputs": [],
   "source": [
    "import numpy as np\n",
    "import seaborn as sns\n",
    "import random\n",
    "import matplotlib.pyplot as plt\n",
    "import pprint\n",
    "\n",
    "def calculate_similarities(products):\n",
    "    \"\"\"Calculate the similarity measures between all pairs of products.\n",
    "    \n",
    "    Parameters\n",
    "    ----------\n",
    "    products : list\n",
    "        A list of dictionaries containing the attributes of the products.\n",
    "    \n",
    "    Returns\n",
    "    -------\n",
    "    euclidean_similarities : numpy array\n",
    "        An array containing the Euclidean distance between each pair of products.\n",
    "    manhattan_distances : numpy array\n",
    "        An array containing the Manhattan distance between each pair of products.\n",
    "    cosine_similarities : numpy array\n",
    "        An array containing the cosine similarity between each pair of products.\n",
    "    jaccard_similarities : numpy array\n",
    "        An array containing the Jaccard index between each pair of products.\n",
    "    pearson_similarities : numpy array\n",
    "        An array containing the Pearson correlation coefficient between each pair of products.\n",
    "    \"\"\"\n",
    "    # Initialize arrays to store the similarity measures\n",
    "    euclidean_similarities = np.zeros((len(products), len(products)))\n",
    "    manhattan_distances = np.zeros((len(products), len(products)))\n",
    "    cosine_similarities = np.zeros((len(products), len(products)))\n",
    "    jaccard_similarities = np.zeros((len(products), len(products)))\n",
    "    pearson_similarities = np.zeros((len(products), len(products)))\n",
    "\n",
    "    # Calculate all the similarity measures in a single loop\n",
    "    for i in range(len(products)):\n",
    "        for j in range(i+1, len(products)):\n",
    "            p1 = products[i]['attributes']\n",
    "            p2 = products[j]['attributes']\n",
    "\n",
    "            # Calculate Euclidean distance\n",
    "            euclidean_similarities[i][j] = distance.euclidean(p1, p2)\n",
    "            euclidean_similarities[j][i] = euclidean_similarities[i][j]\n",
    "\n",
    "            # Calculate Manhattan distance\n",
    "            manhattan_distances[i][j] = distance.cityblock(p1, p2)\n",
    "            manhattan_distances[j][i] = manhattan_distances[i][j]\n",
    "\n",
    "            # Calculate cosine similarity\n",
    "            cosine_similarities[i][j] = cosine_similarity([p1], [p2])[0][0]\n",
    "            cosine_similarities[j][i] = cosine_similarities[i][j]\n",
    "\n",
    "            # Calculate Jaccard index\n",
    "            jaccard_similarities[i][j] = jaccard_similarity(p1, p2)\n",
    "            jaccard_similarities[j][i] = jaccard_similarities[i][j]\n",
    "\n",
    "            # Calculate Pearson correlation coefficient\n",
    "            pearson_similarities[i][j] = np.corrcoef(p1, p2)[0][1]\n",
    "            pearson_similarities[j][i] = pearson_similarities[i][j]\n",
    "            \n",
    "    return euclidean_similarities, manhattan_distances, cosine_similarities, jaccard_similarities, pearson_similarities\n",
    "\n",
    "def plot_similarities(similarities_list, labels, titles):\n",
    "    \"\"\"Plot the given similarities as heatmaps in subplots.\n",
    "    \n",
    "    Parameters\n",
    "    ----------\n",
    "    similarities_list : list of numpy arrays\n",
    "        A list of arrays containing the similarities between the products.\n",
    "    labels : list\n",
    "        A list of strings containing the labels for the products.\n",
    "    titles : list\n",
    "        A list of strings containing the titles for each plot.\n",
    "    \n",
    "    Returns\n",
    "    -------\n",
    "    None\n",
    "        This function does not return any values. It only plots the heatmaps.\n",
    "    \"\"\"\n",
    "    # Set up the plot\n",
    "    fig, ax = plt.subplots(nrows=1, \n",
    "                           ncols=len(similarities_list), figsize=(6*len(similarities_list), 6/1.680))\n",
    "\n",
    "    for i, similarities in enumerate(similarities_list):\n",
    "        # Plot the heatmap\n",
    "        sns.heatmap(similarities, xticklabels=labels, yticklabels=labels, ax=ax[i])\n",
    "        ax[i].set_title(titles[i])\n",
    "        ax[i].set_xlabel(\"Product\")\n",
    "        ax[i].set_ylabel(\"Product\")\n",
    "    \n",
    "    # Show the plot\n",
    "    plt.show()"
   ]
  },
  {
   "cell_type": "code",
   "execution_count": null,
   "id": "17961dbd-b85d-4ce1-889d-fb5e2d118080",
   "metadata": {},
   "outputs": [],
   "source": [
    "# Define the products and their attributes\n",
    "products = [\n",
    "    {'name': 'Product 1', 'attributes': random.sample(range(1, 11), 5)},\n",
    "    {'name': 'Product 2', 'attributes': random.sample(range(1, 11), 5)},\n",
    "    {'name': 'Product 3', 'attributes': random.sample(range(1, 11), 5)},\n",
    "    {'name': 'Product 4', 'attributes': random.sample(range(1, 11), 5)},\n",
    "    {'name': 'Product 5', 'attributes': random.sample(range(1, 11), 5)}\n",
    "]\n",
    "\n",
    "pprint.pprint(products)"
   ]
  },
  {
   "cell_type": "code",
   "execution_count": null,
   "id": "9bafc61f-f777-447d-a422-f8ac5bdf2079",
   "metadata": {},
   "outputs": [],
   "source": [
    "euclidean_similarities, manhattan_distances, \\\n",
    "cosine_similarities, jaccard_similarities, \\\n",
    "pearson_similarities = calculate_similarities(products)\n",
    "\n",
    "# Set the labels for the x-axis and y-axis\n",
    "product_labels = [product['name'] for product in products]\n",
    "\n",
    "# List of similarity measures and their titles\n",
    "similarities_list = [euclidean_similarities, cosine_similarities, pearson_similarities, \n",
    "                     jaccard_similarities, manhattan_distances]\n",
    "titles = [\"Euclidean Distance\", \"Cosine Similarity\", \"Pearson Correlation Coefficient\", \n",
    "          \"Jaccard Index\", \"Manhattan Distance\"]\n",
    "\n",
    "# Plot the heatmaps\n",
    "plot_similarities(similarities_list, product_labels, titles)"
   ]
  },
  {
   "cell_type": "markdown",
   "id": "9a507819-e4f2-4b28-b1f4-fd215cfff40d",
   "metadata": {},
   "source": [
    "As we can see from the charts, each distance metric produces a heat map that represents different similarities between the products, and on a different scale. While each distance metric can be used to interpret whether two products are similar or not based on the metric's value, it is difficult to determine a true measure of similarity when comparing the results across different distance metrics."
   ]
  },
  {
   "cell_type": "markdown",
   "id": "f5314124-5a7e-4865-9cd8-3b523d257a99",
   "metadata": {},
   "source": [
    "** **\n",
    "### How to choose the metric?\n",
    "\n",
    "There is no single \"true\" answer when it comes to choosing a distance metric, as different distance metrics are better suited for different types of data and different analysis goals. However, there are some factors that can help narrow down the possible distance metrics that might be appropriate for a given situation. Some things to consider when choosing a distance metric include:\n",
    "\n",
    "- The type of data you are working with: Some distance metrics are more appropriate for continuous data, while others are better suited for categorical or binary data.\n",
    "- The characteristics of the data: Different distance metrics are sensitive to different aspects of the data, such as the magnitudes of differences between attributes or the angles between attributes. Consider which characteristics of the data are most important to your analysis and choose a distance metric that is sensitive to these characteristics.\n",
    "- The goals of your analysis: Different distance metrics can highlight different patterns or relationships in the data, so consider what you are trying to learn from your analysis and choose a distance metric that is well-suited to this purpose.\n",
    "\n",
    "Personally, I often use the following chart as a starting point when choosing a distance metric.\n",
    "\n",
    "![flowchart](similaritymeasures.png)\n",
    "\n",
    "Again, it is important to carefully consider the data type and characteristics when selecting a similarity metric, as well as the specific goals of the analysis."
   ]
  }
 ],
 "metadata": {
  "kernelspec": {
   "display_name": "Python 3 (ipykernel)",
   "language": "python",
   "name": "python3"
  },
  "language_info": {
   "codemirror_mode": {
    "name": "ipython",
    "version": 3
   },
   "file_extension": ".py",
   "mimetype": "text/x-python",
   "name": "python",
   "nbconvert_exporter": "python",
   "pygments_lexer": "ipython3",
   "version": "3.9.16"
  }
 },
 "nbformat": 4,
 "nbformat_minor": 5
}
